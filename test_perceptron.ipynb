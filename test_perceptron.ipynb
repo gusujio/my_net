{
 "cells": [
  {
   "cell_type": "code",
   "execution_count": 1,
   "id": "28d8e948",
   "metadata": {},
   "outputs": [],
   "source": [
    "import numpy as np\n",
    "import pandas as pd\n",
    "from sklearn.preprocessing import StandardScaler\n",
    "import matplotlib.pyplot as plt # графики\n",
    "from sklearn.metrics import accuracy_score, classification_report, log_loss\n",
    "import torch\n",
    "import perceptron"
   ]
  },
  {
   "cell_type": "code",
   "execution_count": 2,
   "id": "1262d104",
   "metadata": {},
   "outputs": [],
   "source": [
    "np.random.seed(0)\n",
    "# print(np.random.rand(18))\n",
    "\n",
    "data = pd.read_csv(\"data.csv\", header=None)\n",
    "tagter = np.array([1 if i == 'M' else 0 for i in data[1]])\n",
    "tagter[0] = 1\n",
    "data = data.drop([0, 1], axis=1)\n",
    "data = StandardScaler().fit_transform(data)\n",
    "# data = StandardScaler().fit_transform(data)[:, 2:4]"
   ]
  },
  {
   "cell_type": "code",
   "execution_count": 14,
   "id": "d1cf88d8",
   "metadata": {},
   "outputs": [
    {
     "name": "stdout",
     "output_type": "stream",
     "text": [
      "epoch 1/10000 - loss: 0.7262179421926391\n",
      "epoch 2/10000 - loss: 0.6692285743311799\n",
      "epoch 3/10000 - loss: 0.6646066347331272\n",
      "epoch 4/10000 - loss: 0.6624616235692893\n",
      "epoch 5/10000 - loss: 0.6608932461454584\n",
      "epoch 6/10000 - loss: 0.6595626534936327\n",
      "epoch 7/10000 - loss: 0.658192611707716\n",
      "epoch 8/10000 - loss: 0.6565334384590977\n",
      "epoch 9/10000 - loss: 0.654359116002702\n",
      "epoch 10/10000 - loss: 0.6514779239025047\n",
      "epoch 11/10000 - loss: 0.647754778185723\n",
      "epoch 12/10000 - loss: 0.6431337804356217\n",
      "epoch 13/10000 - loss: 0.6376377892115007\n",
      "epoch 14/10000 - loss: 0.6313257979173648\n",
      "epoch 15/10000 - loss: 0.6242258609487452\n",
      "epoch 16/10000 - loss: 0.6162897288967539\n",
      "epoch 17/10000 - loss: 0.6073949223316741\n",
      "epoch 18/10000 - loss: 0.5973765731696871\n",
      "epoch 19/10000 - loss: 0.5860623671100053\n",
      "epoch 20/10000 - loss: 0.5733001514691249\n",
      "epoch 21/10000 - loss: 0.5589778861164265\n",
      "epoch 22/10000 - loss: 0.5430371877915672\n",
      "epoch 23/10000 - loss: 0.5254810895717995\n",
      "epoch 24/10000 - loss: 0.5063774356728972\n",
      "epoch 25/10000 - loss: 0.48586968027251726\n",
      "epoch 26/10000 - loss: 0.4642176659292881\n",
      "epoch 27/10000 - loss: 0.44180069562544927\n",
      "epoch 28/10000 - loss: 0.41900370219866073\n",
      "epoch 29/10000 - loss: 0.396163509259901\n",
      "epoch 30/10000 - loss: 0.37357237217349687\n",
      "epoch 31/10000 - loss: 0.35147631496811105\n",
      "epoch 32/10000 - loss: 0.33011104245060413\n",
      "epoch 33/10000 - loss: 0.3097500022216893\n",
      "epoch 34/10000 - loss: 0.2906133357220159\n",
      "epoch 35/10000 - loss: 0.2727930282537151\n",
      "epoch 36/10000 - loss: 0.2563047601174384\n",
      "epoch 37/10000 - loss: 0.24111685524103857\n",
      "epoch 38/10000 - loss: 0.22716642292919997\n",
      "epoch 39/10000 - loss: 0.21437431105151747\n",
      "epoch 40/10000 - loss: 0.2026547888724237\n",
      "epoch 41/10000 - loss: 0.19192134635396846\n",
      "epoch 42/10000 - loss: 0.18209044607975983\n",
      "epoch 43/10000 - loss: 0.17308391788026145\n",
      "epoch 44/10000 - loss: 0.16483020313122307\n",
      "epoch 45/10000 - loss: 0.15726460807028286\n",
      "epoch 46/10000 - loss: 0.15032880125792947\n",
      "epoch 47/10000 - loss: 0.14396986799855951\n",
      "epoch 48/10000 - loss: 0.1381392604006071\n",
      "epoch 49/10000 - loss: 0.1327919210053857\n",
      "epoch 50/10000 - loss: 0.12788572086554761\n",
      "epoch 51/10000 - loss: 0.12338120424354675\n",
      "epoch 52/10000 - loss: 0.11924153946310774\n",
      "epoch 53/10000 - loss: 0.11543255756620233\n",
      "epoch 54/10000 - loss: 0.1119227905693377\n",
      "epoch 55/10000 - loss: 0.10868346349307816\n",
      "epoch 56/10000 - loss: 0.1056884277965619\n",
      "epoch 57/10000 - loss: 0.10291404305216464\n",
      "epoch 58/10000 - loss: 0.10033902141062291\n",
      "epoch 59/10000 - loss: 0.09794425022743837\n",
      "epoch 60/10000 - loss: 0.09571260583313827\n",
      "epoch 61/10000 - loss: 0.09362876808486734\n",
      "epoch 62/10000 - loss: 0.09167904215881499\n",
      "epoch 63/10000 - loss: 0.08985119146454644\n",
      "epoch 64/10000 - loss: 0.08813428365765329\n",
      "epoch 65/10000 - loss: 0.08651855041591938\n",
      "epoch 66/10000 - loss: 0.08499526079902182\n",
      "epoch 67/10000 - loss: 0.08355660750774938\n",
      "epoch 68/10000 - loss: 0.08219560509177372\n",
      "epoch 69/10000 - loss: 0.08090599904550072\n",
      "epoch 70/10000 - loss: 0.07968218472156083\n",
      "epoch 71/10000 - loss: 0.07851913504048591\n",
      "epoch 72/10000 - loss: 0.07741233605543932\n",
      "epoch 73/10000 - loss: 0.07635772952424413\n",
      "epoch 74/10000 - loss: 0.0753516617357522\n",
      "epoch 75/10000 - loss: 0.07439083792683582\n",
      "epoch 76/10000 - loss: 0.07347228170624583\n",
      "epoch 77/10000 - loss: 0.07259329897080782\n",
      "epoch 78/10000 - loss: 0.07175144585799374\n",
      "epoch 79/10000 - loss: 0.0709445003278463\n",
      "epoch 80/10000 - loss: 0.07017043700810772\n",
      "epoch 81/10000 - loss: 0.06942740497095566\n",
      "epoch 82/10000 - loss: 0.06871370813963179\n",
      "epoch 83/10000 - loss: 0.06802778804986381\n",
      "epoch 84/10000 - loss: 0.06736820871536102\n",
      "epoch 85/10000 - loss: 0.06673364336943423\n",
      "epoch 86/10000 - loss: 0.06612286287615927\n",
      "epoch 87/10000 - loss: 0.06553472562429305\n",
      "epoch 88/10000 - loss: 0.06496816873482225\n",
      "epoch 89/10000 - loss: 0.06442220042777076\n",
      "epoch 90/10000 - loss: 0.06389589340474357\n",
      "epoch 91/10000 - loss: 0.06338837910975172\n",
      "epoch 92/10000 - loss: 0.06289884273164131\n",
      "epoch 93/10000 - loss: 0.062426518807295064\n",
      "epoch 94/10000 - loss: 0.0619706872773736\n",
      "epoch 95/10000 - loss: 0.06153066983915289\n",
      "epoch 96/10000 - loss: 0.06110582643925299\n",
      "epoch 97/10000 - loss: 0.06069555175931996\n",
      "epoch 98/10000 - loss: 0.06029927157655363\n",
      "epoch 99/10000 - loss: 0.05991643893265398\n",
      "epoch 100/10000 - loss: 0.05954653011855922\n",
      "epoch 101/10000 - loss: 0.05918904057017032\n",
      "epoch 102/10000 - loss: 0.05884348085604511\n",
      "epoch 103/10000 - loss: 0.058509373000359154\n",
      "epoch 104/10000 - loss: 0.058186247402612544\n",
      "epoch 105/10000 - loss: 0.05787364057789818\n",
      "epoch 106/10000 - loss: 0.05757109385188628\n",
      "epoch 107/10000 - loss: 0.057278153023383835\n",
      "epoch 108/10000 - loss: 0.05699436888486721\n",
      "epoch 109/10000 - loss: 0.056719298397071856\n",
      "epoch 110/10000 - loss: 0.05645250626537506\n",
      "epoch 111/10000 - loss: 0.05619356666545127\n",
      "epoch 112/10000 - loss: 0.05594206490287244\n",
      "epoch 113/10000 - loss: 0.055697598849477684\n",
      "epoch 114/10000 - loss: 0.055459780062597754\n",
      "epoch 115/10000 - loss: 0.0552282345500803\n",
      "epoch 116/10000 - loss: 0.055002603188226785\n",
      "epoch 117/10000 - loss: 0.05478254182936723\n",
      "epoch 118/10000 - loss: 0.054567721152058934\n",
      "epoch 119/10000 - loss: 0.05435782631263302\n",
      "epoch 120/10000 - loss: 0.05415255645535385\n",
      "epoch 121/10000 - loss: 0.05395162413285702\n",
      "epoch 122/10000 - loss: 0.053754754681184735\n",
      "epoch 123/10000 - loss: 0.05356168558626613\n",
      "epoch 124/10000 - loss: 0.05337216587203775\n",
      "epoch 125/10000 - loss: 0.05318595553497901\n",
      "epoch 126/10000 - loss: 0.053002825045716816\n",
      "epoch 127/10000 - loss: 0.05282255493538124\n",
      "epoch 128/10000 - loss: 0.05264493548231735\n",
      "epoch 129/10000 - loss: 0.052469766513257424\n",
      "epoch 130/10000 - loss: 0.05229685733179501\n",
      "epoch 131/10000 - loss: 0.052126026785611214\n",
      "epoch 132/10000 - loss: 0.05195710348199013\n",
      "epoch 133/10000 - loss: 0.051789926158303336\n",
      "epoch 134/10000 - loss: 0.051624344209885806\n",
      "epoch 135/10000 - loss: 0.051460218371607816\n",
      "epoch 136/10000 - loss: 0.051297421541037384\n",
      "epoch 137/10000 - loss: 0.051135839720073184\n",
      "epoch 138/10000 - loss: 0.05097537303822066\n",
      "epoch 139/10000 - loss: 0.05081593680459135\n",
      "epoch 140/10000 - loss: 0.05065746251810264\n",
      "epoch 141/10000 - loss: 0.05049989874787532\n",
      "epoch 142/10000 - loss: 0.05034321178096171\n",
      "epoch 143/10000 - loss: 0.050187385925603935\n",
      "epoch 144/10000 - loss: 0.05003242335905952\n",
      "epoch 145/10000 - loss: 0.04987834342336738\n"
     ]
    }
   ],
   "source": [
    "np.random.seed(0)\n",
    "net = perceptron.Net(2, 2, True, lr=1, min_err=0.05, n_epochs=10000)\n",
    "net.fit(data, tagter)"
   ]
  },
  {
   "cell_type": "code",
   "execution_count": 4,
   "id": "7257f467",
   "metadata": {},
   "outputs": [
    {
     "data": {
      "image/png": "[encoded data removed]",
      "text/plain": [
       "<Figure size 432x288 with 1 Axes>"
      ]
     },
     "metadata": {
      "needs_background": "light"
     },
     "output_type": "display_data"
    }
   ],
   "source": [
    "pd.DataFrame(net.mas_logloss).plot()\n",
    "plt.xlabel('times')\n",
    "plt.ylabel('log loss values')\n",
    "plt.show()"
   ]
  },
  {
   "cell_type": "code",
   "execution_count": 5,
   "id": "af032af8",
   "metadata": {},
   "outputs": [
    {
     "name": "stdout",
     "output_type": "stream",
     "text": [
      "              precision    recall  f1-score   support\n",
      "\n",
      "           0       0.99      1.00      0.99       357\n",
      "           1       1.00      0.98      0.99       212\n",
      "\n",
      "    accuracy                           0.99       569\n",
      "   macro avg       0.99      0.99      0.99       569\n",
      "weighted avg       0.99      0.99      0.99       569\n",
      "\n"
     ]
    }
   ],
   "source": [
    "print(classification_report(tagter, net.predict(data)))"
   ]
  },
  {
   "cell_type": "code",
   "execution_count": 10,
   "id": "54b085bc",
   "metadata": {},
   "outputs": [
    {
     "data": {
      "text/plain": [
       "0.9912126537785588"
      ]
     },
     "execution_count": 10,
     "metadata": {},
     "output_type": "execute_result"
    }
   ],
   "source": [
    "accuracy_score(tagter, net.predict(data))"
   ]
  },
  {
   "cell_type": "code",
   "execution_count": 11,
   "id": "3aca2841",
   "metadata": {},
   "outputs": [],
   "source": [
    "net.dump_net()"
   ]
  },
  {
   "cell_type": "code",
   "execution_count": 12,
   "id": "7a709bdb",
   "metadata": {},
   "outputs": [],
   "source": [
    "new_net = net.load_net()"
   ]
  },
  {
   "cell_type": "code",
   "execution_count": 13,
   "id": "e9f06cc4",
   "metadata": {},
   "outputs": [
    {
     "name": "stdout",
     "output_type": "stream",
     "text": [
      "              precision    recall  f1-score   support\n",
      "\n",
      "           0       0.99      1.00      0.99       357\n",
      "           1       1.00      0.98      0.99       212\n",
      "\n",
      "    accuracy                           0.99       569\n",
      "   macro avg       0.99      0.99      0.99       569\n",
      "weighted avg       0.99      0.99      0.99       569\n",
      "\n"
     ]
    }
   ],
   "source": [
    "print(classification_report(tagter, new_net.predict(data)))"
   ]
  },
  {
   "cell_type": "code",
   "execution_count": null,
   "id": "869fe828",
   "metadata": {},
   "outputs": [],
   "source": []
  }
 ],
 "metadata": {
  "kernelspec": {
   "display_name": "Python 3",
   "language": "python",
   "name": "python3"
  },
  "language_info": {
   "codemirror_mode": {
    "name": "ipython",
    "version": 3
   },
   "file_extension": ".py",
   "mimetype": "text/x-python",
   "name": "python",
   "nbconvert_exporter": "python",
   "pygments_lexer": "ipython3",
   "version": "3.8.8"
  }
 },
 "nbformat": 4,
 "nbformat_minor": 5
}

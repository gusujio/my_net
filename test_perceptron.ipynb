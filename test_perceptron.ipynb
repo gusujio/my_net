{
 "cells": [
  {
   "cell_type": "code",
   "execution_count": 1,
   "id": "b30bcbb2",
   "metadata": {},
   "outputs": [],
   "source": [
    "import numpy as np\n",
    "import pandas as pd\n",
    "from sklearn.preprocessing import StandardScaler\n",
    "import matplotlib.pyplot as plt # графики\n",
    "from sklearn.metrics import accuracy_score, classification_report, log_loss\n",
    "import torch\n",
    "import perceptron"
   ]
  },
  {
   "cell_type": "code",
   "execution_count": 2,
   "id": "5fd0d37c",
   "metadata": {},
   "outputs": [],
   "source": [
    "np.random.seed(0)\n",
    "# print(np.random.rand(18))\n",
    "\n",
    "data = pd.read_csv(\"data.csv\", header=None)\n",
    "tagter = np.array([1 if i == 'M' else 0 for i in data[1]])\n",
    "tagter[0] = 1\n",
    "data = data.drop([0, 1], axis=1)\n",
    "data = StandardScaler().fit_transform(data)\n",
    "# data = StandardScaler().fit_transform(data)[:, 2:4]"
   ]
  },
  {
   "cell_type": "code",
   "execution_count": 3,
   "id": "bd031b83",
   "metadata": {},
   "outputs": [
    {
     "name": "stdout",
     "output_type": "stream",
     "text": [
      "epoch 1/10000 - loss: 0.7672957163024071\n",
      "epoch 2/10000 - loss: 0.6701230347524385\n",
      "epoch 3/10000 - loss: 0.6642601395479303\n",
      "epoch 4/10000 - loss: 0.6632472712039751\n",
      "epoch 5/10000 - loss: 0.66267381316336\n",
      "epoch 6/10000 - loss: 0.6622264185707432\n",
      "epoch 7/10000 - loss: 0.6618615745384789\n",
      "epoch 8/10000 - loss: 0.6615600091984444\n",
      "epoch 9/10000 - loss: 0.6613077093864179\n",
      "epoch 10/10000 - loss: 0.6610936816608611\n",
      "epoch 11/10000 - loss: 0.6609091577354702\n",
      "epoch 12/10000 - loss: 0.6607470490255501\n",
      "epoch 13/10000 - loss: 0.6606015290099901\n",
      "epoch 14/10000 - loss: 0.6604677089634063\n",
      "epoch 15/10000 - loss: 0.6603413838247074\n",
      "epoch 16/10000 - loss: 0.6602188299827528\n",
      "epoch 17/10000 - loss: 0.6600966406376522\n",
      "epoch 18/10000 - loss: 0.659971587454764\n",
      "epoch 19/10000 - loss: 0.6598404995348276\n",
      "epoch 20/10000 - loss: 0.6597001523731528\n",
      "epoch 21/10000 - loss: 0.6595471605799282\n",
      "epoch 22/10000 - loss: 0.6593778687811158\n",
      "epoch 23/10000 - loss: 0.6591882353990152\n",
      "epoch 24/10000 - loss: 0.65897370399412\n",
      "epoch 25/10000 - loss: 0.6587290566004393\n",
      "epoch 26/10000 - loss: 0.6584482430774452\n",
      "epoch 27/10000 - loss: 0.6581241800343425\n",
      "epoch 28/10000 - loss: 0.6577485125186936\n",
      "epoch 29/10000 - loss: 0.657311331674336\n",
      "epoch 30/10000 - loss: 0.6568008424160727\n",
      "epoch 31/10000 - loss: 0.6562029775644788\n",
      "epoch 32/10000 - loss: 0.6555009599218881\n",
      "epoch 33/10000 - loss: 0.6546748229469384\n",
      "epoch 34/10000 - loss: 0.6537009157630751\n",
      "epoch 35/10000 - loss: 0.6525514406569934\n",
      "epoch 36/10000 - loss: 0.6511941006780538\n",
      "epoch 37/10000 - loss: 0.6495919667785144\n",
      "epoch 38/10000 - loss: 0.6477036956549777\n",
      "epoch 39/10000 - loss: 0.6454842185361002\n",
      "epoch 40/10000 - loss: 0.6428859491311991\n",
      "epoch 41/10000 - loss: 0.6398604087763066\n",
      "epoch 42/10000 - loss: 0.6363599648194587\n",
      "epoch 43/10000 - loss: 0.6323392202367563\n",
      "epoch 44/10000 - loss: 0.6277556163903498\n",
      "epoch 45/10000 - loss: 0.6225690894768418\n",
      "epoch 46/10000 - loss: 0.6167410501901054\n",
      "epoch 47/10000 - loss: 0.6102332827803852\n",
      "epoch 48/10000 - loss: 0.6030073715571239\n",
      "epoch 49/10000 - loss: 0.5950249559659332\n",
      "epoch 50/10000 - loss: 0.586248670640842\n",
      "epoch 51/10000 - loss: 0.5766432667713035\n",
      "epoch 52/10000 - loss: 0.5661763329163043\n",
      "epoch 53/10000 - loss: 0.5548183045779931\n",
      "epoch 54/10000 - loss: 0.542541815188253\n",
      "epoch 55/10000 - loss: 0.529320962178337\n",
      "epoch 56/10000 - loss: 0.5151340178446161\n",
      "epoch 57/10000 - loss: 0.499981783439653\n",
      "epoch 58/10000 - loss: 0.4839316281820937\n",
      "epoch 59/10000 - loss: 0.4671325898992592\n",
      "epoch 60/10000 - loss: 0.44972587943880776\n",
      "epoch 61/10000 - loss: 0.4318048747608604\n",
      "epoch 62/10000 - loss: 0.41347047947250065\n",
      "epoch 63/10000 - loss: 0.394863003257155\n",
      "epoch 64/10000 - loss: 0.37617564532205655\n",
      "epoch 65/10000 - loss: 0.35763487594923216\n",
      "epoch 66/10000 - loss: 0.3394501398241398\n",
      "epoch 67/10000 - loss: 0.32179061871197817\n",
      "epoch 68/10000 - loss: 0.30479121155962025\n",
      "epoch 69/10000 - loss: 0.28855495580865825\n",
      "epoch 70/10000 - loss: 0.2731530815705786\n",
      "epoch 71/10000 - loss: 0.25862797735718995\n",
      "epoch 72/10000 - loss: 0.24499766302304912\n",
      "epoch 73/10000 - loss: 0.23226036122413615\n",
      "epoch 74/10000 - loss: 0.22039883777659738\n",
      "epoch 75/10000 - loss: 0.20938437107541782\n",
      "epoch 76/10000 - loss: 0.19918016748270106\n",
      "epoch 77/10000 - loss: 0.18974410663340452\n",
      "epoch 78/10000 - loss: 0.18103083522568725\n",
      "epoch 79/10000 - loss: 0.1729933293475147\n",
      "epoch 80/10000 - loss: 0.1655840748676033\n",
      "epoch 81/10000 - loss: 0.1587559893626022\n",
      "epoch 82/10000 - loss: 0.15246316181911646\n",
      "epoch 83/10000 - loss: 0.1466614448645877\n",
      "epoch 84/10000 - loss: 0.14130891028305878\n",
      "epoch 85/10000 - loss: 0.13636617147965188\n",
      "epoch 86/10000 - loss: 0.1317965798863665\n",
      "epoch 87/10000 - loss: 0.12756630909367678\n",
      "epoch 88/10000 - loss: 0.12364434608062178\n",
      "epoch 89/10000 - loss: 0.1200024113732524\n",
      "epoch 90/10000 - loss: 0.1166148293321564\n",
      "epoch 91/10000 - loss: 0.1134583670390967\n",
      "epoch 92/10000 - loss: 0.11051205655793142\n",
      "epoch 93/10000 - loss: 0.10775701156639629\n",
      "epoch 94/10000 - loss: 0.10517624600999412\n",
      "epoch 95/10000 - loss: 0.10275449972934078\n",
      "epoch 96/10000 - loss: 0.10047807397524405\n",
      "epoch 97/10000 - loss: 0.09833467827186952\n",
      "epoch 98/10000 - loss: 0.09631328910536863\n",
      "epoch 99/10000 - loss: 0.09440402029239388\n",
      "epoch 100/10000 - loss: 0.09259800452364661\n",
      "epoch 101/10000 - loss: 0.09088728540283868\n",
      "epoch 102/10000 - loss: 0.08926471924779797\n",
      "epoch 103/10000 - loss: 0.08772388593827461\n",
      "epoch 104/10000 - loss: 0.08625900814703112\n",
      "epoch 105/10000 - loss: 0.08486487835124074\n",
      "epoch 106/10000 - loss: 0.0835367930747698\n",
      "epoch 107/10000 - loss: 0.08227049385219787\n",
      "epoch 108/10000 - loss: 0.08106211443264638\n",
      "epoch 109/10000 - loss: 0.07990813375975715\n",
      "epoch 110/10000 - loss: 0.07880533427881728\n",
      "epoch 111/10000 - loss: 0.07775076513736036\n",
      "epoch 112/10000 - loss: 0.07674170986318711\n",
      "epoch 113/10000 - loss: 0.07577565812154874\n",
      "epoch 114/10000 - loss: 0.07485028116533173\n",
      "epoch 115/10000 - loss: 0.0739634105899926\n",
      "epoch 116/10000 - loss: 0.073113019980846\n",
      "epoch 117/10000 - loss: 0.07229720899223266\n",
      "epoch 118/10000 - loss: 0.07151418933679837\n",
      "epoch 119/10000 - loss: 0.07076227211668583\n",
      "epoch 120/10000 - loss: 0.07003985594045954\n",
      "epoch 121/10000 - loss: 0.06934541538594953\n",
      "epoch 122/10000 - loss: 0.06867748961348981\n",
      "epoch 123/10000 - loss: 0.0680346712803293\n",
      "epoch 124/10000 - loss: 0.06741559626864453\n",
      "epoch 125/10000 - loss: 0.06681893499180092\n",
      "epoch 126/10000 - loss: 0.06624338607952969\n",
      "epoch 127/10000 - loss: 0.06568767303434388\n",
      "epoch 128/10000 - loss: 0.06515054407258349\n",
      "epoch 129/10000 - loss: 0.06463077495601331\n",
      "epoch 130/10000 - loss: 0.06412717432407579\n",
      "epoch 131/10000 - loss: 0.06363859092754189\n",
      "epoch 132/10000 - loss: 0.06316392222662777\n",
      "epoch 133/10000 - loss: 0.06270212396532457\n",
      "epoch 134/10000 - loss: 0.06225222045595461\n",
      "epoch 135/10000 - loss: 0.0618133153066564\n",
      "epoch 136/10000 - loss: 0.06138460214757434\n",
      "epoch 137/10000 - loss: 0.06096537456837515\n",
      "epoch 138/10000 - loss: 0.06055503405000857\n",
      "epoch 139/10000 - loss: 0.06015309430841737\n",
      "epoch 140/10000 - loss: 0.0597591803705862\n",
      "epoch 141/10000 - loss: 0.059373021072417535\n",
      "epoch 142/10000 - loss: 0.058994434597341584\n",
      "epoch 143/10000 - loss: 0.05862330804533882\n",
      "epoch 144/10000 - loss: 0.058259573461355366\n",
      "epoch 145/10000 - loss: 0.05790318373462108\n",
      "epoch 146/10000 - loss: 0.05755409186797731\n",
      "epoch 147/10000 - loss: 0.05721223621063185\n",
      "epoch 148/10000 - loss: 0.056877532677488775\n",
      "epoch 149/10000 - loss: 0.05654987333855684\n",
      "epoch 150/10000 - loss: 0.0562291296064765\n",
      "epoch 151/10000 - loss: 0.055915157840754126\n",
      "epoch 152/10000 - loss: 0.05560780544293462\n",
      "epoch 153/10000 - loss: 0.05530691614585599\n",
      "epoch 154/10000 - loss: 0.05501233388689931\n",
      "epoch 155/10000 - loss: 0.05472390519234586\n",
      "epoch 156/10000 - loss: 0.054441480311693886\n",
      "epoch 157/10000 - loss: 0.05416491346260683\n",
      "epoch 158/10000 - loss: 0.053894062522822084\n",
      "epoch 159/10000 - loss: 0.053628788466990276\n",
      "epoch 160/10000 - loss: 0.053368954667552364\n",
      "epoch 161/10000 - loss: 0.053114426374241006\n",
      "epoch 162/10000 - loss: 0.05286507004536299\n",
      "epoch 163/10000 - loss: 0.052620755393929575\n",
      "epoch 164/10000 - loss: 0.05238136880581796\n",
      "epoch 165/10000 - loss: 0.05214697211873131\n",
      "epoch 166/10000 - loss: 0.05191923624050024\n",
      "epoch 167/10000 - loss: 0.05171550144923348\n",
      "epoch 168/10000 - loss: 0.05170865484680621\n",
      "epoch 169/10000 - loss: 0.053511384937758005\n",
      "epoch 170/10000 - loss: 0.06676496275535199\n",
      "epoch 171/10000 - loss: 0.05350184057353522\n",
      "epoch 172/10000 - loss: 0.061088309198217554\n",
      "epoch 173/10000 - loss: 0.05661258597093875\n",
      "epoch 174/10000 - loss: 0.06422922214437993\n",
      "epoch 175/10000 - loss: 0.05388035596443617\n",
      "epoch 176/10000 - loss: 0.05860499771575198\n",
      "epoch 177/10000 - loss: 0.06510511795445975\n",
      "epoch 178/10000 - loss: 0.05540091574182241\n",
      "epoch 179/10000 - loss: 0.05238197676845769\n",
      "epoch 180/10000 - loss: 0.05104046233073365\n",
      "epoch 181/10000 - loss: 0.05036096979168756\n",
      "epoch 182/10000 - loss: 0.05002621882388749\n",
      "epoch 183/10000 - loss: 0.04974200761281918\n"
     ]
    }
   ],
   "source": [
    "np.random.seed(0)\n",
    "net = perceptron.Net(2, 2, True, lr=1, min_err=0.05, n_epochs=10000)\n",
    "net.fit(data, tagter)"
   ]
  },
  {
   "cell_type": "code",
   "execution_count": 4,
   "id": "75f5f112",
   "metadata": {},
   "outputs": [
    {
     "data": {
      "image/png": "[encoded data removed]",
      "text/plain": [
       "<Figure size 432x288 with 1 Axes>"
      ]
     },
     "metadata": {
      "needs_background": "light"
     },
     "output_type": "display_data"
    }
   ],
   "source": [
    "pd.DataFrame(net.mas_logloss).plot()\n",
    "plt.xlabel('times')\n",
    "plt.ylabel('log loss values')\n",
    "plt.show()"
   ]
  },
  {
   "cell_type": "code",
   "execution_count": 5,
   "id": "5782073a",
   "metadata": {},
   "outputs": [
    {
     "name": "stdout",
     "output_type": "stream",
     "text": [
      "              precision    recall  f1-score   support\n",
      "\n",
      "           0       0.99      1.00      0.99       357\n",
      "           1       1.00      0.98      0.99       212\n",
      "\n",
      "    accuracy                           0.99       569\n",
      "   macro avg       0.99      0.99      0.99       569\n",
      "weighted avg       0.99      0.99      0.99       569\n",
      "\n"
     ]
    }
   ],
   "source": [
    "print(classification_report(tagter, net.predict(data)))"
   ]
  },
  {
   "cell_type": "code",
   "execution_count": 10,
   "id": "4fff2b75",
   "metadata": {},
   "outputs": [
    {
     "data": {
      "text/plain": [
       "0.9912126537785588"
      ]
     },
     "execution_count": 10,
     "metadata": {},
     "output_type": "execute_result"
    }
   ],
   "source": [
    "accuracy_score(tagter, net.predict(data))"
   ]
  },
  {
   "cell_type": "code",
   "execution_count": 11,
   "id": "41be00a0",
   "metadata": {},
   "outputs": [],
   "source": [
    "net.dump_net()"
   ]
  },
  {
   "cell_type": "code",
   "execution_count": 12,
   "id": "f03c3951",
   "metadata": {},
   "outputs": [],
   "source": [
    "new_net = net.load_net()"
   ]
  },
  {
   "cell_type": "code",
   "execution_count": 13,
   "id": "91c29441",
   "metadata": {},
   "outputs": [
    {
     "name": "stdout",
     "output_type": "stream",
     "text": [
      "              precision    recall  f1-score   support\n",
      "\n",
      "           0       0.99      1.00      0.99       357\n",
      "           1       1.00      0.98      0.99       212\n",
      "\n",
      "    accuracy                           0.99       569\n",
      "   macro avg       0.99      0.99      0.99       569\n",
      "weighted avg       0.99      0.99      0.99       569\n",
      "\n"
     ]
    }
   ],
   "source": [
    "print(classification_report(tagter, new_net.predict(data)))"
   ]
  },
  {
   "cell_type": "code",
   "execution_count": null,
   "id": "df03ed1f",
   "metadata": {},
   "outputs": [],
   "source": []
  }
 ],
 "metadata": {
  "kernelspec": {
   "display_name": "Python 3",
   "language": "python",
   "name": "python3"
  },
  "language_info": {
   "codemirror_mode": {
    "name": "ipython",
    "version": 3
   },
   "file_extension": ".py",
   "mimetype": "text/x-python",
   "name": "python",
   "nbconvert_exporter": "python",
   "pygments_lexer": "ipython3",
   "version": "3.8.8"
  }
 },
 "nbformat": 4,
 "nbformat_minor": 5
}
